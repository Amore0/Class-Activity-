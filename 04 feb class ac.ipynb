{
 "cells": [
  {
   "cell_type": "code",
   "execution_count": 14,
   "metadata": {},
   "outputs": [
    {
     "name": "stdout",
     "output_type": "stream",
     "text": [
      "   ID  color_Blue  color_Green  color_Red\n",
      "0   1       False        False       True\n",
      "1   2       False         True      False\n",
      "2   3        True        False      False\n"
     ]
    }
   ],
   "source": [
    "import pandas as pd  # No need for numpy\n",
    "\n",
    "data = {'ID': [1, 2, 3],\n",
    "        'color': ['Red', 'Green', 'Blue']}\n",
    "\n",
    "df = pd.DataFrame(data)\n",
    "\n",
    "df_encoded = pd.get_dummies(df, columns=['color'], prefix='color')\n",
    "\n",
    "print(df_encoded)\n"
   ]
  },
  {
   "cell_type": "code",
   "execution_count": 15,
   "metadata": {},
   "outputs": [
    {
     "name": "stdout",
     "output_type": "stream",
     "text": [
      "   ID DateOfBirth  Age\n",
      "0   1  1990-05-15   34\n",
      "1   2  1985-10-20   39\n",
      "2   3  2000-03-08   24\n"
     ]
    }
   ],
   "source": [
    "from datetime import datetime\n",
    "import pandas as pd\n",
    "\n",
    "data = {'ID': [1, 2, 3],\n",
    "        'DateOfBirth': ['1990-05-15', '1985-10-20', '2000-03-08']}\n",
    "\n",
    "df = pd.DataFrame(data)\n",
    "\n",
    "# Convert 'DateOfBirth' to datetime format\n",
    "df['DateOfBirth'] = pd.to_datetime(df['DateOfBirth'], errors='coerce')\n",
    "\n",
    "# Ensure current date is in the same format\n",
    "current_date = pd.Timestamp.now()\n",
    "\n",
    "# Calculate age\n",
    "df['Age'] = (current_date - df['DateOfBirth']).dt.days // 365\n",
    "\n",
    "print(df)\n"
   ]
  },
  {
   "cell_type": "markdown",
   "metadata": {},
   "source": [
    "# Aggregation\n",
    "\n",
    "Summarizing information at a higher level for simplifying analysis or reporting purposes"
   ]
  },
  {
   "cell_type": "code",
   "execution_count": 16,
   "metadata": {},
   "outputs": [
    {
     "name": "stdout",
     "output_type": "stream",
     "text": [
      "  Category  Sales\n",
      "0        A    270\n",
      "1        B    350\n"
     ]
    }
   ],
   "source": [
    "data = {'ID': [1, 2, 3, 4],\n",
    "        'Category': ['A', 'B', 'A','B'],\n",
    "        'Sales': [100, 150, 170, 200]}\n",
    "\n",
    "df = pd.DataFrame(data)\n",
    "df_aggregated = df.groupby('Category')['Sales'].sum().reset_index()\n",
    "\n",
    "print(df_aggregated)"
   ]
  },
  {
   "cell_type": "markdown",
   "metadata": {},
   "source": [
    "# Dimensionality\n",
    "\n",
    "Technique used to reduce the number of features while preserving essential information\n",
    "\n",
    "# Principal Component Analysis\n",
    "\n",
    "Reducing the number of dimensions in large datasets\n"
   ]
  },
  {
   "cell_type": "code",
   "execution_count": 17,
   "metadata": {},
   "outputs": [
    {
     "name": "stdout",
     "output_type": "stream",
     "text": [
      "        PC1           PC2\n",
      "0 -2.828427 -2.941441e-16\n",
      "1 -1.414214  9.804804e-17\n",
      "2  0.000000 -0.000000e+00\n",
      "3  1.414214 -9.804804e-17\n",
      "4  2.828427 -1.960961e-16\n"
     ]
    }
   ],
   "source": [
    "from sklearn.decomposition import PCA\n",
    "\n",
    "#Sample DataFrame with multiple features\n",
    "data = {'Feature1': [1, 2, 3, 4, 5],\n",
    "        'Feature2': [5, 4, 3, 2, 1]}\n",
    "\n",
    "df = pd.DataFrame(data)\n",
    "\n",
    "#PCA with 2 components\n",
    "pca = PCA(n_components=2)\n",
    "\n",
    "principalComponents = pca.fit_transform(df)\n",
    "\n",
    "#Create a DataFrame with the principal components\n",
    "df_pca = pd.DataFrame(data = principalComponents, columns = ['PC1', 'PC2'])\n",
    "print(df_pca)"
   ]
  },
  {
   "cell_type": "code",
   "execution_count": 18,
   "metadata": {},
   "outputs": [],
   "source": [
    "import pandas as pd\n",
    "\n",
    "# Sample customer data\n",
    "data = {\n",
    "    'Customer_ID': [101, 102, 103, 104, 105],\n",
    "    'Gender': ['Male', 'Female', 'Female', 'Male', 'Female'],\n",
    "    'Age': [25, 34, 40, 29, 50],\n",
    "    'Spending_Score': [60, 75, 40, 55, 30]\n",
    "}\n",
    "\n",
    "df = pd.DataFrame(data)\n"
   ]
  },
  {
   "cell_type": "code",
   "execution_count": 19,
   "metadata": {},
   "outputs": [
    {
     "name": "stdout",
     "output_type": "stream",
     "text": [
      "   Customer_ID  Gender_Male        PC1\n",
      "0          101         True  11.753084\n",
      "1          102        False  21.490639\n",
      "2          103        False -12.731133\n",
      "3          104         True   5.525541\n",
      "4          105        False -26.038131\n"
     ]
    }
   ],
   "source": [
    "from sklearn.decomposition import PCA\n",
    "\n",
    "# One-hot encoding the categorical column\n",
    "df_encoded = pd.get_dummies(df, columns=['Gender'])\n",
    "# Selecting numerical columns for PCA\n",
    "df_numerical = df_encoded[['Age', 'Spending_Score']]\n",
    "# Applying PCA with 1 component\n",
    "pca = PCA(n_components=1)\n",
    "# Create a new DataFrame with PCA results\n",
    "df_pca = pd.DataFrame(pca.fit_transform(df_numerical), columns=['PC1'])\n",
    "# Merge PCA results with the original DataFrame\n",
    "df_encoded = df_encoded.join(df_pca)\n",
    "# Select final columns\n",
    "df_final = df_encoded[['Customer_ID', 'Gender_Male', 'PC1']]\n",
    "\n",
    "print(df_final)\n"
   ]
  }
 ],
 "metadata": {
  "kernelspec": {
   "display_name": "Python 3",
   "language": "python",
   "name": "python3"
  },
  "language_info": {
   "codemirror_mode": {
    "name": "ipython",
    "version": 3
   },
   "file_extension": ".py",
   "mimetype": "text/x-python",
   "name": "python",
   "nbconvert_exporter": "python",
   "pygments_lexer": "ipython3",
   "version": "3.12.5"
  }
 },
 "nbformat": 4,
 "nbformat_minor": 2
}
