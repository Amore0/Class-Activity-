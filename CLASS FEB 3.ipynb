{
 "cells": [
  {
   "cell_type": "code",
   "execution_count": 5,
   "metadata": {},
   "outputs": [
    {
     "name": "stdout",
     "output_type": "stream",
     "text": [
      "Original DataFrame:\n",
      "     Name   Age  salary department\n",
      "0   Alice  28.0   50000         HR\n",
      "1     Bob   NaN   60000         IT\n",
      "2  Carlie  35.0   55000    FINANCE\n",
      "3   alice  28.0   50000         HR\n",
      "4     Eve  40.0   70000         IT\n",
      "5     Bob   NaN  100000    FINANCE\n",
      "\n",
      "Cleaned DataFrame:\n",
      "     Name   Age  salary department\n",
      "0   ALICE  28.0   50000         HR\n",
      "1     BOB   NaN   60000         IT\n",
      "2  CARLIE  35.0   55000    FINANCE\n",
      "3   ALICE  28.0   50000         HR\n",
      "4     EVE  40.0   70000         IT\n",
      "5     BOB   NaN  100000    FINANCE\n"
     ]
    }
   ],
   "source": [
    "import pandas as pd\n",
    "import numpy as np\n",
    "\n",
    "# Creating the DataFrame\n",
    "data = {\n",
    "    'Name': ['Alice', 'Bob', 'Carlie', 'alice', 'Eve', 'Bob'],\n",
    "    'Age': [28, np.nan, 35, 28, 40, np.nan],\n",
    "    'salary': [50000, 60000, 55000, 50000, 70000, 100000],\n",
    "    'department': ['HR', 'IT', 'FINANCE', 'HR', 'IT', 'FINANCE'],\n",
    "}\n",
    "\n",
    "df = pd.DataFrame(data)\n",
    "\n",
    "# Store the original DataFrame for comparison\n",
    "df_original = df.copy()\n",
    "\n",
    "# Handling Missing Data: Fill missing Age with mean value (excluding 'Bob')\n",
    "df['Age'] = df.apply(lambda row: df['Age'].mean() if pd.isna(row['Age']) and row['Name'] != 'Bob' else row['Age'], axis=1)\n",
    "\n",
    "# Removing Duplicate Records\n",
    "df.drop_duplicates(inplace=True)\n",
    "\n",
    "# Handling Outliers: Cap Salary at 100,000 using np.clip\n",
    "df['salary'] = np.clip(df['salary'], a_min=None, a_max=100000)\n",
    "\n",
    "# Ensuring Consistent Formatting: Convert Employee Names to Uppercase\n",
    "df['Name'] = df['Name'].str.upper()\n",
    "\n",
    "# Display the original DataFrame\n",
    "print(\"Original DataFrame:\")\n",
    "print(df_original)\n",
    "\n",
    "# Display the cleaned DataFrame\n",
    "print(\"\\nCleaned DataFrame:\")\n",
    "print(df)\n"
   ]
  }
 ],
 "metadata": {
  "kernelspec": {
   "display_name": "Python 3",
   "language": "python",
   "name": "python3"
  },
  "language_info": {
   "codemirror_mode": {
    "name": "ipython",
    "version": 3
   },
   "file_extension": ".py",
   "mimetype": "text/x-python",
   "name": "python",
   "nbconvert_exporter": "python",
   "pygments_lexer": "ipython3",
   "version": "3.11.9"
  }
 },
 "nbformat": 4,
 "nbformat_minor": 2
}
